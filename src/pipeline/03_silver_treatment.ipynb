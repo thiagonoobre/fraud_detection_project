{
 "cells": [
  {
   "cell_type": "markdown",
   "metadata": {
    "application/vnd.databricks.v1+cell": {
     "cellMetadata": {
      "byteLimit": 2048000,
      "rowLimit": 10000
     },
     "inputWidgets": {},
     "nuid": "6041883f-0785-49d5-8744-f42488fff694",
     "showTitle": false,
     "tableResultSettingsMap": {},
     "title": ""
    }
   },
   "source": [
    "## 3. Tratamentos Iniciais dos Dataframes - Camada Silver"
   ]
  },
  {
   "cell_type": "markdown",
   "metadata": {
    "application/vnd.databricks.v1+cell": {
     "cellMetadata": {
      "byteLimit": 2048000,
      "rowLimit": 10000
     },
     "inputWidgets": {},
     "nuid": "a38e72e4-fada-4246-8b4b-b939d41be08c",
     "showTitle": false,
     "tableResultSettingsMap": {},
     "title": ""
    }
   },
   "source": [
    "Nesse notebook, realizamos o primeiro processo de tratamento das tabelas `customer_profiles_bronze`, `terminal_profiles_bronze` e `transaction_bronze`, Localizada na camada Bronze do nosso Lakehouse. Os dados foram inicialmente carregados em seu formato bruto e passaram pelas seguintes etapas: \n",
    "\n",
    "1. Verificação do Schema Original\n",
    "2. Ajuste dos Tipos de Dados\n",
    "3. Validação de Dados Nulos\n",
    "4. Gravação na Camada Silver"
   ]
  },
  {
   "cell_type": "markdown",
   "metadata": {
    "application/vnd.databricks.v1+cell": {
     "cellMetadata": {
      "byteLimit": 2048000,
      "rowLimit": 10000
     },
     "inputWidgets": {},
     "nuid": "f5a5c050-c3b8-4658-82d8-d24af21d8415",
     "showTitle": false,
     "tableResultSettingsMap": {},
     "title": ""
    }
   },
   "source": [
    "### imports"
   ]
  },
  {
   "cell_type": "code",
   "execution_count": 0,
   "metadata": {
    "application/vnd.databricks.v1+cell": {
     "cellMetadata": {
      "byteLimit": 2048000,
      "rowLimit": 10000
     },
     "inputWidgets": {},
     "nuid": "4e1ebe8a-c51b-4c14-8492-d94ba3f25c2f",
     "showTitle": false,
     "tableResultSettingsMap": {},
     "title": ""
    }
   },
   "outputs": [],
   "source": [
    "from pyspark.sql.functions import col, from_json, to_timestamp\n",
    "from pyspark.sql.types import ArrayType, IntegerType\n"
   ]
  },
  {
   "cell_type": "markdown",
   "metadata": {
    "application/vnd.databricks.v1+cell": {
     "cellMetadata": {
      "byteLimit": 2048000,
      "rowLimit": 10000
     },
     "inputWidgets": {},
     "nuid": "7a37724e-1fd9-43c3-944b-5e50630558b9",
     "showTitle": false,
     "tableResultSettingsMap": {},
     "title": ""
    }
   },
   "source": [
    "### 3.1. Tratamento na Tabela Customer"
   ]
  },
  {
   "cell_type": "code",
   "execution_count": 0,
   "metadata": {
    "application/vnd.databricks.v1+cell": {
     "cellMetadata": {
      "byteLimit": 2048000,
      "rowLimit": 10000
     },
     "inputWidgets": {},
     "nuid": "4a6005e8-36db-4ef0-98de-5bbecc74f925",
     "showTitle": false,
     "tableResultSettingsMap": {},
     "title": ""
    }
   },
   "outputs": [],
   "source": [
    "customer = spark.sql(\"\"\"\n",
    "SELECT * FROM workspace.fraud_detection.customer_profiles_bronze\n",
    "\"\"\")\n"
   ]
  },
  {
   "cell_type": "code",
   "execution_count": 0,
   "metadata": {
    "application/vnd.databricks.v1+cell": {
     "cellMetadata": {
      "byteLimit": 2048000,
      "rowLimit": 10000
     },
     "inputWidgets": {},
     "nuid": "77111483-6f40-4b04-8203-50cdfe6e197e",
     "showTitle": false,
     "tableResultSettingsMap": {},
     "title": ""
    }
   },
   "outputs": [],
   "source": [
    "customer.show(3)"
   ]
  },
  {
   "cell_type": "markdown",
   "metadata": {
    "application/vnd.databricks.v1+cell": {
     "cellMetadata": {
      "byteLimit": 2048000,
      "rowLimit": 10000
     },
     "inputWidgets": {},
     "nuid": "9f60f96c-0ccf-43c2-95ad-a73444bc22b4",
     "showTitle": false,
     "tableResultSettingsMap": {},
     "title": ""
    }
   },
   "source": [
    "Utilizamos o método printSchema() para inspecionar os tipos de dados originais das colunas. Identificamos que todos os campos estavam como string, inclusive colunas numéricas e arrays, devido à forma como os dados foram ingeridos."
   ]
  },
  {
   "cell_type": "code",
   "execution_count": 0,
   "metadata": {
    "application/vnd.databricks.v1+cell": {
     "cellMetadata": {
      "byteLimit": 2048000,
      "rowLimit": 10000
     },
     "inputWidgets": {},
     "nuid": "1c2962c1-5fad-4661-a01d-7f85482edebd",
     "showTitle": false,
     "tableResultSettingsMap": {},
     "title": ""
    }
   },
   "outputs": [],
   "source": [
    "customer.printSchema()\n"
   ]
  },
  {
   "cell_type": "markdown",
   "metadata": {
    "application/vnd.databricks.v1+cell": {
     "cellMetadata": {
      "byteLimit": 2048000,
      "rowLimit": 10000
     },
     "inputWidgets": {},
     "nuid": "64a76113-525f-41a7-b772-7c86c63c880e",
     "showTitle": false,
     "tableResultSettingsMap": {},
     "title": ""
    }
   },
   "source": [
    "Realizamos a conversão dos tipos de dados de cada coluna para seus formatos adequados (ex: double, int, array<int>), garantindo que as colunas possam ser utilizadas corretamente em análises estatísticas e modelagens futuras."
   ]
  },
  {
   "cell_type": "code",
   "execution_count": 0,
   "metadata": {
    "application/vnd.databricks.v1+cell": {
     "cellMetadata": {
      "byteLimit": 2048000,
      "rowLimit": 10000
     },
     "inputWidgets": {},
     "nuid": "935822b6-8099-467c-b2af-f9fa2a4b5e6d",
     "showTitle": false,
     "tableResultSettingsMap": {},
     "title": ""
    }
   },
   "outputs": [],
   "source": [
    "customer = customer \\\n",
    "    .withColumn(\"x_customer_id\", col(\"x_customer_id\").cast(\"double\")) \\\n",
    "    .withColumn(\"y_customer_id\", col(\"y_customer_id\").cast(\"double\")) \\\n",
    "    .withColumn(\"mean_amount\", col(\"mean_amount\").cast(\"double\")) \\\n",
    "    .withColumn(\"std_amount\", col(\"std_amount\").cast(\"double\")) \\\n",
    "    .withColumn(\"mean_nb_tx_per_day\", col(\"mean_nb_tx_per_day\").cast(\"double\")) \\\n",
    "    .withColumn(\"nb_terminals\", col(\"nb_terminals\").cast(\"int\"))\n"
   ]
  },
  {
   "cell_type": "markdown",
   "metadata": {
    "application/vnd.databricks.v1+cell": {
     "cellMetadata": {
      "byteLimit": 2048000,
      "rowLimit": 10000
     },
     "inputWidgets": {},
     "nuid": "3f03e202-6fe8-495b-80ea-f29b1e2ab239",
     "showTitle": false,
     "tableResultSettingsMap": {},
     "title": ""
    }
   },
   "source": [
    "A coluna available_terminals, originalmente armazenada como uma string no formato de lista (\"[1, 2, 3]\"), foi convertida para um tipo array<int> utilizando a função from_json."
   ]
  },
  {
   "cell_type": "code",
   "execution_count": 0,
   "metadata": {
    "application/vnd.databricks.v1+cell": {
     "cellMetadata": {
      "byteLimit": 2048000,
      "rowLimit": 10000
     },
     "inputWidgets": {},
     "nuid": "629ac4b9-28da-4b91-bb3e-891c6dca1b51",
     "showTitle": false,
     "tableResultSettingsMap": {},
     "title": ""
    }
   },
   "outputs": [],
   "source": [
    "schema_array = ArrayType(IntegerType())\n",
    "\n",
    "customer = customer.withColumn(\n",
    "    \"available_terminals\",\n",
    "    from_json(col(\"available_terminals\"), schema_array)\n",
    ")\n"
   ]
  },
  {
   "cell_type": "code",
   "execution_count": 0,
   "metadata": {
    "application/vnd.databricks.v1+cell": {
     "cellMetadata": {
      "byteLimit": 2048000,
      "rowLimit": 10000
     },
     "inputWidgets": {},
     "nuid": "39ab63f8-c241-4c87-8f63-e8e25b063025",
     "showTitle": false,
     "tableResultSettingsMap": {},
     "title": ""
    }
   },
   "outputs": [],
   "source": [
    "customer.printSchema()\n"
   ]
  },
  {
   "cell_type": "markdown",
   "metadata": {
    "application/vnd.databricks.v1+cell": {
     "cellMetadata": {
      "byteLimit": 2048000,
      "rowLimit": 10000
     },
     "inputWidgets": {},
     "nuid": "6e26ebdc-98b4-46c7-a601-b86cc4605495",
     "showTitle": false,
     "tableResultSettingsMap": {},
     "title": ""
    }
   },
   "source": [
    "Utilizamos uma query SQL para verificar a presença de valores nulos em todas as colunas. Como os dados foram simulados, nenhuma ausência foi encontrada."
   ]
  },
  {
   "cell_type": "code",
   "execution_count": 0,
   "metadata": {
    "application/vnd.databricks.v1+cell": {
     "cellMetadata": {
      "byteLimit": 2048000,
      "implicitDf": true,
      "rowLimit": 10000
     },
     "inputWidgets": {},
     "nuid": "c768c73e-aad0-442b-b494-88e9a30f4faf",
     "showTitle": false,
     "tableResultSettingsMap": {},
     "title": ""
    }
   },
   "outputs": [],
   "source": [
    "%sql\n",
    "SELECT\n",
    "  COUNT(*) AS total_linhas,\n",
    "  SUM(CASE WHEN CUSTOMER_ID IS NULL THEN 1 ELSE 0 END) AS nulos_CUSTOMER_ID,\n",
    "  SUM(CASE WHEN x_customer_id IS NULL THEN 1 ELSE 0 END) AS nulos_x_customer_id,\n",
    "  SUM(CASE WHEN y_customer_id IS NULL THEN 1 ELSE 0 END) AS nulos_y_customer_id,\n",
    "  SUM(CASE WHEN mean_amount IS NULL THEN 1 ELSE 0 END) AS nulos_mean_amount,\n",
    "  SUM(CASE WHEN std_amount IS NULL THEN 1 ELSE 0 END) AS nulos_std_amount,\n",
    "  SUM(CASE WHEN mean_nb_tx_per_day IS NULL THEN 1 ELSE 0 END) AS nulos_mean_nb_tx_per_day,\n",
    "  SUM(CASE WHEN available_terminals IS NULL THEN 1 ELSE 0 END) AS nulos_available_terminals,\n",
    "  SUM(CASE WHEN nb_terminals IS NULL THEN 1 ELSE 0 END) AS nulos_nb_terminals\n",
    "FROM workspace.fraud_detection.customer_profiles_bronze;\n"
   ]
  },
  {
   "cell_type": "markdown",
   "metadata": {
    "application/vnd.databricks.v1+cell": {
     "cellMetadata": {
      "byteLimit": 2048000,
      "rowLimit": 10000
     },
     "inputWidgets": {},
     "nuid": "1f0c5734-7226-4b7e-950a-e9a507d9a37f",
     "showTitle": false,
     "tableResultSettingsMap": {},
     "title": ""
    }
   },
   "source": [
    "Após os ajustes, os dados foram persistidos na camada Silver como a tabela `customer_profiles_silver`, agora com estrutura limpa, padronizada e pronta para enriquecimentos, validações de consistência e análises exploratórias."
   ]
  },
  {
   "cell_type": "code",
   "execution_count": 0,
   "metadata": {
    "application/vnd.databricks.v1+cell": {
     "cellMetadata": {
      "byteLimit": 2048000,
      "rowLimit": 10000
     },
     "inputWidgets": {},
     "nuid": "c23c8987-41ea-45cf-b6d8-c286a2a3b0bb",
     "showTitle": false,
     "tableResultSettingsMap": {},
     "title": ""
    }
   },
   "outputs": [],
   "source": [
    "customer.write.format(\"delta\").mode(\"overwrite\").saveAsTable(\"fraud_detection.customer_profiles_silver\")"
   ]
  },
  {
   "cell_type": "markdown",
   "metadata": {
    "application/vnd.databricks.v1+cell": {
     "cellMetadata": {
      "byteLimit": 2048000,
      "rowLimit": 10000
     },
     "inputWidgets": {},
     "nuid": "dee38fe8-13e9-4289-acfc-e7a1f7700e0d",
     "showTitle": false,
     "tableResultSettingsMap": {},
     "title": ""
    }
   },
   "source": [
    "### 3.2. Tratamento na Tabela Terminal"
   ]
  },
  {
   "cell_type": "code",
   "execution_count": 0,
   "metadata": {
    "application/vnd.databricks.v1+cell": {
     "cellMetadata": {
      "byteLimit": 2048000,
      "rowLimit": 10000
     },
     "inputWidgets": {},
     "nuid": "f4999791-af6b-49e4-8260-1b094f169676",
     "showTitle": false,
     "tableResultSettingsMap": {},
     "title": ""
    }
   },
   "outputs": [],
   "source": [
    "terminal = spark.sql(\"\"\"\n",
    "SELECT * FROM workspace.fraud_detection.terminal_profiles_bronze\n",
    "\"\"\")\n"
   ]
  },
  {
   "cell_type": "code",
   "execution_count": 0,
   "metadata": {
    "application/vnd.databricks.v1+cell": {
     "cellMetadata": {
      "byteLimit": 2048000,
      "rowLimit": 10000
     },
     "inputWidgets": {},
     "nuid": "5b9af388-e27a-4bd3-8ab0-f87f4853b024",
     "showTitle": false,
     "tableResultSettingsMap": {},
     "title": ""
    }
   },
   "outputs": [],
   "source": [
    "terminal.show(3)"
   ]
  },
  {
   "cell_type": "markdown",
   "metadata": {
    "application/vnd.databricks.v1+cell": {
     "cellMetadata": {
      "byteLimit": 2048000,
      "rowLimit": 10000
     },
     "inputWidgets": {},
     "nuid": "ed90b7cd-42a6-4478-9afa-90a09e010c4d",
     "showTitle": false,
     "tableResultSettingsMap": {},
     "title": ""
    }
   },
   "source": [
    "Utilizamos o método printSchema() para inspecionar os tipos de dados originais das colunas. Identificamos que todos os campos estavam como string, devido à forma como os dados foram ingeridos.\n"
   ]
  },
  {
   "cell_type": "code",
   "execution_count": 0,
   "metadata": {
    "application/vnd.databricks.v1+cell": {
     "cellMetadata": {
      "byteLimit": 2048000,
      "rowLimit": 10000
     },
     "inputWidgets": {},
     "nuid": "e7844395-baca-4466-bb57-63b650dca593",
     "showTitle": false,
     "tableResultSettingsMap": {},
     "title": ""
    }
   },
   "outputs": [],
   "source": [
    "terminal.printSchema()\n"
   ]
  },
  {
   "cell_type": "markdown",
   "metadata": {
    "application/vnd.databricks.v1+cell": {
     "cellMetadata": {
      "byteLimit": 2048000,
      "rowLimit": 10000
     },
     "inputWidgets": {},
     "nuid": "cdc1d88d-6ce2-4645-a7b3-71aa2ffbdc9e",
     "showTitle": false,
     "tableResultSettingsMap": {},
     "title": ""
    }
   },
   "source": [
    "Realizamos a conversão dos tipos de dados de cada coluna para seus formatos adequados (ex: double, int), garantindo que as colunas possam ser utilizadas corretamente em análises estatísticas e modelagens futuras.\n"
   ]
  },
  {
   "cell_type": "code",
   "execution_count": 0,
   "metadata": {
    "application/vnd.databricks.v1+cell": {
     "cellMetadata": {
      "byteLimit": 2048000,
      "rowLimit": 10000
     },
     "inputWidgets": {},
     "nuid": "b1817567-3638-41a9-924b-e49b268ea527",
     "showTitle": false,
     "tableResultSettingsMap": {},
     "title": ""
    }
   },
   "outputs": [],
   "source": [
    "terminal = terminal \\\n",
    "    .withColumn(\"x_terminal_id\", col(\"x_terminal_id\").cast(\"double\")) \\\n",
    "    .withColumn(\"y_terminal_id\", col(\"y_terminal_id\").cast(\"double\"))\n"
   ]
  },
  {
   "cell_type": "code",
   "execution_count": 0,
   "metadata": {
    "application/vnd.databricks.v1+cell": {
     "cellMetadata": {
      "byteLimit": 2048000,
      "rowLimit": 10000
     },
     "inputWidgets": {},
     "nuid": "f81c4721-d669-4bbd-8e59-4cf650a25893",
     "showTitle": false,
     "tableResultSettingsMap": {},
     "title": ""
    }
   },
   "outputs": [],
   "source": [
    "terminal.printSchema()"
   ]
  },
  {
   "cell_type": "markdown",
   "metadata": {
    "application/vnd.databricks.v1+cell": {
     "cellMetadata": {
      "byteLimit": 2048000,
      "rowLimit": 10000
     },
     "inputWidgets": {},
     "nuid": "14fa89a7-8465-4933-b049-c4a7e7a766ea",
     "showTitle": false,
     "tableResultSettingsMap": {},
     "title": ""
    }
   },
   "source": [
    "Utilizamos uma query SQL para verificar a presença de valores nulos em todas as colunas. Como os dados foram simulados, nenhuma ausência foi encontrada.\n"
   ]
  },
  {
   "cell_type": "code",
   "execution_count": 0,
   "metadata": {
    "application/vnd.databricks.v1+cell": {
     "cellMetadata": {
      "byteLimit": 2048000,
      "implicitDf": true,
      "rowLimit": 10000
     },
     "inputWidgets": {},
     "nuid": "893412db-9998-4979-86bd-993e9188e175",
     "showTitle": false,
     "tableResultSettingsMap": {},
     "title": ""
    }
   },
   "outputs": [],
   "source": [
    "%sql\n",
    "SELECT\n",
    "  COUNT(*) AS total_linhas,\n",
    "  SUM(CASE WHEN TERMINAL_ID IS NULL THEN 1 ELSE 0 END) AS nulos_TERMINAL_ID,\n",
    "  SUM(CASE WHEN x_terminal_id IS NULL THEN 1 ELSE 0 END) AS nulos_x_terminal_id,\n",
    "  SUM(CASE WHEN y_terminal_id IS NULL THEN 1 ELSE 0 END) AS nulos_y_terminal_id\n",
    "FROM workspace.fraud_detection.terminal_profiles_bronze;\n"
   ]
  },
  {
   "cell_type": "markdown",
   "metadata": {
    "application/vnd.databricks.v1+cell": {
     "cellMetadata": {
      "byteLimit": 2048000,
      "rowLimit": 10000
     },
     "inputWidgets": {},
     "nuid": "453c3c54-279c-4b8f-ac43-35413d93edda",
     "showTitle": false,
     "tableResultSettingsMap": {},
     "title": ""
    }
   },
   "source": [
    "Após os ajustes, os dados foram persistidos na camada Silver como a tabela `terminal_profiles_silver`, agora com estrutura limpa, padronizada e pronta para enriquecimentos, validações de consistência e análises exploratórias.\n"
   ]
  },
  {
   "cell_type": "code",
   "execution_count": 0,
   "metadata": {
    "application/vnd.databricks.v1+cell": {
     "cellMetadata": {
      "byteLimit": 2048000,
      "rowLimit": 10000
     },
     "inputWidgets": {},
     "nuid": "fc1858eb-7e77-4a8c-9663-51890b644455",
     "showTitle": false,
     "tableResultSettingsMap": {},
     "title": ""
    }
   },
   "outputs": [],
   "source": [
    "terminal.write.format(\"delta\").mode(\"overwrite\").saveAsTable(\"fraud_detection.terminal_profiles_silver\")"
   ]
  },
  {
   "cell_type": "markdown",
   "metadata": {
    "application/vnd.databricks.v1+cell": {
     "cellMetadata": {
      "byteLimit": 2048000,
      "rowLimit": 10000
     },
     "inputWidgets": {},
     "nuid": "03d8d545-b7ca-4e82-a4f6-a29687b1aa72",
     "showTitle": false,
     "tableResultSettingsMap": {},
     "title": ""
    }
   },
   "source": [
    "### 3.3. Tratamento na Tabela Transaction"
   ]
  },
  {
   "cell_type": "code",
   "execution_count": 0,
   "metadata": {
    "application/vnd.databricks.v1+cell": {
     "cellMetadata": {
      "byteLimit": 2048000,
      "rowLimit": 10000
     },
     "inputWidgets": {},
     "nuid": "6b00dad9-8431-465d-af40-3bc4df419d28",
     "showTitle": false,
     "tableResultSettingsMap": {},
     "title": ""
    }
   },
   "outputs": [],
   "source": [
    "transactions = spark.sql(\"\"\"\n",
    "SELECT * FROM workspace.fraud_detection.transaction_bronze\n",
    "\"\"\")\n"
   ]
  },
  {
   "cell_type": "code",
   "execution_count": 0,
   "metadata": {
    "application/vnd.databricks.v1+cell": {
     "cellMetadata": {
      "byteLimit": 2048000,
      "rowLimit": 10000
     },
     "inputWidgets": {},
     "nuid": "9ae02db0-9da2-48ed-ad95-c8da808ee98d",
     "showTitle": false,
     "tableResultSettingsMap": {},
     "title": ""
    }
   },
   "outputs": [],
   "source": [
    "transactions.show(3)"
   ]
  },
  {
   "cell_type": "markdown",
   "metadata": {
    "application/vnd.databricks.v1+cell": {
     "cellMetadata": {
      "byteLimit": 2048000,
      "rowLimit": 10000
     },
     "inputWidgets": {},
     "nuid": "1b50afb9-57b6-401c-9096-83acd92432cc",
     "showTitle": false,
     "tableResultSettingsMap": {},
     "title": ""
    }
   },
   "source": [
    "Utilizamos o método printSchema() para inspecionar os tipos de dados originais das colunas. Identificamos que todos os campos estavam como string, devido à forma como os dados foram ingeridos."
   ]
  },
  {
   "cell_type": "code",
   "execution_count": 0,
   "metadata": {
    "application/vnd.databricks.v1+cell": {
     "cellMetadata": {
      "byteLimit": 2048000,
      "rowLimit": 10000
     },
     "inputWidgets": {},
     "nuid": "64a087b8-edb4-4d85-88a6-09c4c340f09a",
     "showTitle": false,
     "tableResultSettingsMap": {},
     "title": ""
    }
   },
   "outputs": [],
   "source": [
    "transactions.printSchema()"
   ]
  },
  {
   "cell_type": "markdown",
   "metadata": {
    "application/vnd.databricks.v1+cell": {
     "cellMetadata": {
      "byteLimit": 2048000,
      "rowLimit": 10000
     },
     "inputWidgets": {},
     "nuid": "cd34295d-26ff-4af6-a1b5-f56d8059e661",
     "showTitle": false,
     "tableResultSettingsMap": {},
     "title": ""
    }
   },
   "source": [
    "Realizamos a conversão dos tipos de dados de cada coluna para seus formatos adequados (ex: double, int, timestamp), garantindo que as colunas possam ser utilizadas corretamente em análises estatísticas e modelagens futuras."
   ]
  },
  {
   "cell_type": "code",
   "execution_count": 0,
   "metadata": {
    "application/vnd.databricks.v1+cell": {
     "cellMetadata": {
      "byteLimit": 2048000,
      "rowLimit": 10000
     },
     "inputWidgets": {},
     "nuid": "4edf60e1-15ae-4138-9164-d62bb88b6e87",
     "showTitle": false,
     "tableResultSettingsMap": {},
     "title": ""
    }
   },
   "outputs": [],
   "source": [
    "transactions = transactions \\\n",
    "    .withColumn(\"TX_DATETIME\", to_timestamp(col(\"TX_DATETIME\"), \"yyyy-MM-dd HH:mm:ss\")) \\\n",
    "    .withColumn(\"TX_AMOUNT\", col(\"TX_AMOUNT\").cast(\"double\")) \\\n",
    "    .withColumn(\"TX_TIME_SECONDS\", col(\"TX_TIME_SECONDS\").cast(\"int\")) \\\n",
    "    .withColumn(\"TX_TIME_DAYS\", col(\"TX_TIME_DAYS\").cast(\"int\")) \\\n",
    "    .withColumn(\"TX_FRAUD\", col(\"TX_FRAUD\").cast(\"int\")) \\\n",
    "    .withColumn(\"TX_FRAUD_SCENARIO\", col(\"TX_FRAUD_SCENARIO\").cast(\"int\"))\n"
   ]
  },
  {
   "cell_type": "code",
   "execution_count": 0,
   "metadata": {
    "application/vnd.databricks.v1+cell": {
     "cellMetadata": {
      "byteLimit": 2048000,
      "rowLimit": 10000
     },
     "inputWidgets": {},
     "nuid": "1ab6a5ef-d266-4761-b546-3d000718d35a",
     "showTitle": false,
     "tableResultSettingsMap": {},
     "title": ""
    }
   },
   "outputs": [],
   "source": [
    "transactions.printSchema()"
   ]
  },
  {
   "cell_type": "code",
   "execution_count": 0,
   "metadata": {
    "application/vnd.databricks.v1+cell": {
     "cellMetadata": {
      "byteLimit": 2048000,
      "rowLimit": 10000
     },
     "inputWidgets": {},
     "nuid": "2e8b1fd0-71e4-4ad6-9f7e-c7af8c31e42f",
     "showTitle": false,
     "tableResultSettingsMap": {},
     "title": ""
    }
   },
   "outputs": [],
   "source": [
    "transactions.show(3)"
   ]
  },
  {
   "cell_type": "markdown",
   "metadata": {
    "application/vnd.databricks.v1+cell": {
     "cellMetadata": {
      "byteLimit": 2048000,
      "rowLimit": 10000
     },
     "inputWidgets": {},
     "nuid": "cd39ec6c-3dbd-4896-b863-128d310676b6",
     "showTitle": false,
     "tableResultSettingsMap": {},
     "title": ""
    }
   },
   "source": [
    "Utilizamos uma query SQL para verificar a presença de valores nulos em todas as colunas. Como os dados foram simulados, nenhuma ausência foi encontrada.\n"
   ]
  },
  {
   "cell_type": "code",
   "execution_count": 0,
   "metadata": {
    "application/vnd.databricks.v1+cell": {
     "cellMetadata": {
      "byteLimit": 2048000,
      "implicitDf": true,
      "rowLimit": 10000
     },
     "inputWidgets": {},
     "nuid": "f2ad2512-352b-4ae7-9863-1254c4572adc",
     "showTitle": false,
     "tableResultSettingsMap": {},
     "title": ""
    }
   },
   "outputs": [],
   "source": [
    "%sql\n",
    "\n",
    "SELECT \n",
    "  count(*) as total_linhas,\n",
    "  sum(case when TRANSACTION_ID is null then 1 else 0 end) as nulos_TRANSACTION_ID,\n",
    "  sum(case when TX_DATETIME is null then 1 else 0 end) as nulos_TX_DATETIME,\n",
    "  sum(case when CUSTOMER_ID is null then 1 else 0 end) as nulos_CUSTOMER_ID,\n",
    "  sum(case when TERMINAL_ID is null then 1 else 0 end) as nulos_TERMINAL_ID,\n",
    "  sum(case when TX_AMOUNT is null then 1 else 0 end) as nulos_TX_AMOUNT,\n",
    "  sum(case when TX_TIME_SECONDS is null then 1 else 0 end) as nulos_TX_TIME_SECONDS,\n",
    "  sum(case when TX_TIME_DAYS is null then 1 else 0 end) as nulos_TX_TIME_DAYS,\n",
    "  sum(case when TX_FRAUD is null then 1 else 0 end) as nulos_TX_FRAUD,\n",
    "  sum(case when TX_FRAUD_SCENARIO is null then 1 else 0 end) as nulos_TX_FRAUD_SCENARIO\n",
    "FROM workspace.fraud_detection.transaction_bronze;\n"
   ]
  },
  {
   "cell_type": "markdown",
   "metadata": {
    "application/vnd.databricks.v1+cell": {
     "cellMetadata": {
      "byteLimit": 2048000,
      "rowLimit": 10000
     },
     "inputWidgets": {},
     "nuid": "c625e78e-169b-4a7e-97f4-222d0db74360",
     "showTitle": false,
     "tableResultSettingsMap": {},
     "title": ""
    }
   },
   "source": [
    "Após os ajustes, os dados foram persistidos na camada Silver como a tabela `transaction_silver`, agora com estrutura limpa, padronizada e pronta para enriquecimentos, validações de consistência e análises exploratórias.\n"
   ]
  },
  {
   "cell_type": "code",
   "execution_count": 0,
   "metadata": {
    "application/vnd.databricks.v1+cell": {
     "cellMetadata": {
      "byteLimit": 2048000,
      "rowLimit": 10000
     },
     "inputWidgets": {},
     "nuid": "e8a8ccac-92fc-4c12-8055-b4b6e4ad2271",
     "showTitle": false,
     "tableResultSettingsMap": {},
     "title": ""
    }
   },
   "outputs": [],
   "source": [
    "transactions.write.format(\"delta\").mode(\"overwrite\").saveAsTable(\"fraud_detection.transaction_silver\")"
   ]
  }
 ],
 "metadata": {
  "application/vnd.databricks.v1+notebook": {
   "computePreferences": null,
   "dashboards": [],
   "environmentMetadata": {
    "base_environment": "",
    "environment_version": "2"
   },
   "inputWidgetPreferences": null,
   "language": "python",
   "notebookMetadata": {
    "mostRecentlyExecutedCommandWithImplicitDF": {
     "commandId": 7327272615852916,
     "dataframes": [
      "_sqldf"
     ]
    },
    "pythonIndentUnit": 4
   },
   "notebookName": "03_silver_treatment",
   "widgets": {}
  },
  "language_info": {
   "name": "python"
  }
 },
 "nbformat": 4,
 "nbformat_minor": 0
}
