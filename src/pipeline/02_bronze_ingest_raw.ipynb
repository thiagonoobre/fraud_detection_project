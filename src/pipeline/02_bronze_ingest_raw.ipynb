{
 "cells": [
  {
   "cell_type": "markdown",
   "metadata": {
    "application/vnd.databricks.v1+cell": {
     "cellMetadata": {
      "byteLimit": 2048000,
      "rowLimit": 10000
     },
     "inputWidgets": {},
     "nuid": "bc13815b-3df4-4dac-b4c1-45ca4dfe5691",
     "showTitle": false,
     "tableResultSettingsMap": {},
     "title": ""
    }
   },
   "source": [
    "## 2. Descomplicando a Jornada dos Dados - Do Início à Camada Bronze"
   ]
  },
  {
   "cell_type": "markdown",
   "metadata": {
    "application/vnd.databricks.v1+cell": {
     "cellMetadata": {
      "byteLimit": 2048000,
      "rowLimit": 10000
     },
     "inputWidgets": {},
     "nuid": "7ce77790-ce6f-4bdb-b4fe-2d4ffeb39956",
     "showTitle": false,
     "tableResultSettingsMap": {},
     "title": ""
    }
   },
   "source": [
    "Já fizemos o processo de geração dos **perfis de cliente**, **terminal** e das **transações**. Além disso, colocamos em prática a **ingestão dos dados brutos** para a **camada raw**.\n",
    "\n",
    "É importante lembrar que, por enquanto, estamos realizando esse processo com **dados simulados**. No entanto, se estivéssemos coletando esses dados de uma **API** e realizando algum tipo de tratamento, correríamos o risco de **interromper a pipeline** e **perder informações** caso a API sofresse alguma modificação.\n",
    "\n",
    "A próxima etapa é pegar esses **dados brutos** da **camada raw** (que estão em formato CSV) e depositá-los na **camada bronze**. Nesta fase, não faremos muitas modificações: apenas a **troca do formato para Delta** e a **reorganização do cabeçalho das tabelas** para a posição correta."
   ]
  },
  {
   "cell_type": "code",
   "execution_count": 0,
   "metadata": {
    "application/vnd.databricks.v1+cell": {
     "cellMetadata": {
      "byteLimit": 2048000,
      "rowLimit": 10000
     },
     "inputWidgets": {},
     "nuid": "e7e53d57-3054-4a8a-ac80-3e911c81a4b1",
     "showTitle": false,
     "tableResultSettingsMap": {},
     "title": ""
    }
   },
   "outputs": [],
   "source": [
    "custormer_df = spark.read.csv('/Volumes/workspace/fraud_detection/raw/customer/customer.csv', header=True)\n",
    "terminal_df = spark.read.csv('/Volumes/workspace/fraud_detection/raw/terminal/terminal.csv', header=True)\n",
    "transaction_df = spark.read.csv('/Volumes/workspace/fraud_detection/raw/transactions/transactions.csv', header=True)"
   ]
  },
  {
   "cell_type": "code",
   "execution_count": 0,
   "metadata": {
    "application/vnd.databricks.v1+cell": {
     "cellMetadata": {
      "byteLimit": 2048000,
      "rowLimit": 10000
     },
     "inputWidgets": {},
     "nuid": "5db20703-0bc2-4cf8-a286-35431bf1fe75",
     "showTitle": false,
     "tableResultSettingsMap": {},
     "title": ""
    }
   },
   "outputs": [],
   "source": [
    "# Tabelas de perfis\n",
    "custormer_df.write.format(\"delta\") \\\n",
    "    .mode(\"overwrite\") \\\n",
    "    .saveAsTable(\"fraud_detection.customer_profiles_bronze\")\n",
    "\n",
    "terminal_df.write.format(\"delta\") \\\n",
    "    .mode(\"overwrite\") \\\n",
    "    .saveAsTable(\"fraud_detection.terminal_profiles_bronze\")\n",
    "\n",
    "# Tabelas de trasações\n",
    "transaction_df.write.format(\"delta\") \\\n",
    "    .mode(\"overwrite\") \\\n",
    "    .saveAsTable(\"fraud_detection.transaction_bronze\")"
   ]
  },
  {
   "cell_type": "markdown",
   "metadata": {
    "application/vnd.databricks.v1+cell": {
     "cellMetadata": {
      "byteLimit": 2048000,
      "rowLimit": 10000
     },
     "inputWidgets": {},
     "nuid": "ac5e511a-c479-4dfa-b345-193c3ad19f5a",
     "showTitle": false,
     "tableResultSettingsMap": {},
     "title": ""
    }
   },
   "source": [
    "Como podemos ver nas **queries abaixo**, nossas tabelas já estão estruturadas e prontas para dar continuidade ao **tratamento dos dados** na **camada silver**."
   ]
  },
  {
   "cell_type": "code",
   "execution_count": 0,
   "metadata": {
    "application/vnd.databricks.v1+cell": {
     "cellMetadata": {
      "byteLimit": 2048000,
      "implicitDf": true,
      "rowLimit": 10000
     },
     "inputWidgets": {},
     "nuid": "658b5f72-31f7-4318-8069-58e13aeb5f6d",
     "showTitle": false,
     "tableResultSettingsMap": {},
     "title": ""
    }
   },
   "outputs": [],
   "source": [
    "%sql\n",
    "SELECT\n",
    "  *\n",
    "FROM\n",
    "  workspace.fraud_detection.customer_profiles_bronze\n",
    "LIMIT 3"
   ]
  },
  {
   "cell_type": "code",
   "execution_count": 0,
   "metadata": {
    "application/vnd.databricks.v1+cell": {
     "cellMetadata": {
      "byteLimit": 2048000,
      "implicitDf": true,
      "rowLimit": 10000
     },
     "inputWidgets": {},
     "nuid": "935e7c45-f9a3-465a-87bd-66aedd0c4737",
     "showTitle": false,
     "tableResultSettingsMap": {},
     "title": ""
    }
   },
   "outputs": [],
   "source": [
    "%sql\n",
    "SELECT\n",
    "  *\n",
    "FROM\n",
    "  workspace.fraud_detection.terminal_profiles_bronze\n",
    "LIMIT 3"
   ]
  },
  {
   "cell_type": "code",
   "execution_count": 0,
   "metadata": {
    "application/vnd.databricks.v1+cell": {
     "cellMetadata": {
      "byteLimit": 2048000,
      "implicitDf": true,
      "rowLimit": 10000
     },
     "inputWidgets": {},
     "nuid": "929618a9-fe1a-4be7-80c8-0ba4f70e085f",
     "showTitle": false,
     "tableResultSettingsMap": {},
     "title": ""
    }
   },
   "outputs": [],
   "source": [
    "%sql\n",
    "SELECT\n",
    "  *\n",
    "FROM\n",
    "  workspace.fraud_detection.transaction_bronze\n",
    "ORDER BY `TRANSACTION_ID` ASC\n",
    "LIMIT 3"
   ]
  }
 ],
 "metadata": {
  "application/vnd.databricks.v1+notebook": {
   "computePreferences": null,
   "dashboards": [],
   "environmentMetadata": {
    "base_environment": "",
    "environment_version": "2"
   },
   "inputWidgetPreferences": null,
   "language": "python",
   "notebookMetadata": {
    "mostRecentlyExecutedCommandWithImplicitDF": {
     "commandId": 7303223714546948,
     "dataframes": [
      "_sqldf"
     ]
    },
    "pythonIndentUnit": 4
   },
   "notebookName": "02_bronze_ingest_raw",
   "widgets": {}
  },
  "language_info": {
   "name": "python"
  }
 },
 "nbformat": 4,
 "nbformat_minor": 0
}
