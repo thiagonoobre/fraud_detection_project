{
 "cells": [
  {
   "cell_type": "markdown",
   "metadata": {
    "application/vnd.databricks.v1+cell": {
     "cellMetadata": {
      "byteLimit": 2048000,
      "rowLimit": 10000
     },
     "inputWidgets": {},
     "nuid": "cab3d28f-420c-4c49-b821-eac293c5a2b3",
     "showTitle": false,
     "tableResultSettingsMap": {},
     "title": ""
    }
   },
   "source": [
    "## 4. Transformação de Features de Baseline - Camada Gold"
   ]
  },
  {
   "cell_type": "markdown",
   "metadata": {
    "application/vnd.databricks.v1+cell": {
     "cellMetadata": {
      "byteLimit": 2048000,
      "rowLimit": 10000
     },
     "inputWidgets": {},
     "nuid": "79a0a456-f380-4ecf-858e-316b35dd328c",
     "showTitle": false,
     "tableResultSettingsMap": {},
     "title": ""
    }
   },
   "source": [
    "\n",
    "O dataset contém:\n",
    "\n",
    "* `TRANSACTION_ID`: ID único da transação.\n",
    "* `TX_DATETIME`: Data e hora da transação.\n",
    "* `CUSTOMER_ID`: ID do cliente que fez a transação.\n",
    "* `TERMINAL_ID`: ID do terminal (maquininha de cartão) onde a transação ocorreu.\n",
    "* `TX_AMOUNT`: Valor da transação.\n",
    "* `TX_FRAUD`: Label da transação → 1 se for fraude, 0 se for legítima.\n",
    "* `TX_FRAUD_SCENARIO`:  Label para os tipos de fraudes \n",
    "\n",
    "\n",
    "Ou seja, a base é composta por transações simuladas, cada uma com informações mínimas para análise e detecção de fraudes.\n"
   ]
  },
  {
   "cell_type": "markdown",
   "metadata": {
    "application/vnd.databricks.v1+cell": {
     "cellMetadata": {
      "byteLimit": 2048000,
      "rowLimit": 10000
     },
     "inputWidgets": {},
     "nuid": "66fd465b-25d7-469e-b9e9-3317187f9695",
     "showTitle": false,
     "tableResultSettingsMap": {},
     "title": ""
    }
   },
   "source": [
    "Cenário de Fraude (coluna `TX_FRAUD_SCENARIO`)\n",
    "* 1\tFraudes com valores acima de R$220 — detecção simples baseada em threshold.\n",
    "* 2\tTerminais comprometidos por 28 dias — exige análise temporal por terminal.\n",
    "* 3\tCartões clonados por 14 dias com transações infladas — exige análise de padrão de gasto por cliente."
   ]
  },
  {
   "cell_type": "markdown",
   "metadata": {
    "application/vnd.databricks.v1+cell": {
     "cellMetadata": {
      "byteLimit": 2048000,
      "rowLimit": 10000
     },
     "inputWidgets": {},
     "nuid": "a9f97732-f225-40b2-a463-ff10e6b7787c",
     "showTitle": false,
     "tableResultSettingsMap": {},
     "title": ""
    }
   },
   "source": [
    "### imports\n"
   ]
  },
  {
   "cell_type": "code",
   "execution_count": 0,
   "metadata": {
    "application/vnd.databricks.v1+cell": {
     "cellMetadata": {
      "byteLimit": 2048000,
      "rowLimit": 10000
     },
     "inputWidgets": {},
     "nuid": "215ddff8-a223-44c2-b700-f97b0edc556c",
     "showTitle": false,
     "tableResultSettingsMap": {},
     "title": ""
    }
   },
   "outputs": [],
   "source": [
    "from pyspark.sql.functions import col, to_timestamp, date_format, hour, when, unix_timestamp, count, avg, desc, sum as spark_sum\n",
    "from pyspark.sql.window import Window\n"
   ]
  },
  {
   "cell_type": "code",
   "execution_count": 0,
   "metadata": {
    "application/vnd.databricks.v1+cell": {
     "cellMetadata": {
      "byteLimit": 2048000,
      "rowLimit": 10000
     },
     "inputWidgets": {},
     "nuid": "9831e64c-dcc3-417e-a4b3-43b41681effd",
     "showTitle": false,
     "tableResultSettingsMap": {},
     "title": ""
    }
   },
   "outputs": [],
   "source": [
    "transactions = spark.sql(\"\"\"\n",
    "                          SELECT * FROM workspace.fraud_detection.transaction_silver\n",
    "                          \"\"\")\n"
   ]
  },
  {
   "cell_type": "code",
   "execution_count": 0,
   "metadata": {
    "application/vnd.databricks.v1+cell": {
     "cellMetadata": {
      "byteLimit": 2048000,
      "rowLimit": 10000
     },
     "inputWidgets": {},
     "nuid": "70309b80-2ce7-45c6-959f-e76a44afb09c",
     "showTitle": false,
     "tableResultSettingsMap": {},
     "title": ""
    }
   },
   "outputs": [],
   "source": [
    "transactions.show()"
   ]
  },
  {
   "cell_type": "code",
   "execution_count": 0,
   "metadata": {
    "application/vnd.databricks.v1+cell": {
     "cellMetadata": {
      "byteLimit": 2048000,
      "rowLimit": 10000
     },
     "inputWidgets": {},
     "nuid": "cd779063-8aad-44eb-a474-56ccf8377e2f",
     "showTitle": false,
     "tableResultSettingsMap": {},
     "title": ""
    }
   },
   "outputs": [],
   "source": [
    "transactions.printSchema()"
   ]
  },
  {
   "cell_type": "markdown",
   "metadata": {
    "application/vnd.databricks.v1+cell": {
     "cellMetadata": {
      "byteLimit": 2048000,
      "rowLimit": 10000
     },
     "inputWidgets": {},
     "nuid": "14596ad3-c3c8-40da-940a-0744e9410b40",
     "showTitle": false,
     "tableResultSettingsMap": {},
     "title": ""
    }
   },
   "source": [
    "### 4.1. Feature Engineering"
   ]
  },
  {
   "cell_type": "markdown",
   "metadata": {
    "application/vnd.databricks.v1+cell": {
     "cellMetadata": {
      "byteLimit": 2048000,
      "rowLimit": 10000
     },
     "inputWidgets": {},
     "nuid": "c8016d0c-7119-46ff-b252-f6e8362287ff",
     "showTitle": false,
     "tableResultSettingsMap": {},
     "title": ""
    }
   },
   "source": [
    "> **Objetivo**: Criar variáveis (features) enriquecidas com base nas tabelas silver para preparar os dados para um modelo de detecção de fraudes."
   ]
  },
  {
   "cell_type": "markdown",
   "metadata": {
    "application/vnd.databricks.v1+cell": {
     "cellMetadata": {
      "byteLimit": 2048000,
      "rowLimit": 10000
     },
     "inputWidgets": {},
     "nuid": "ad75951a-4276-49bf-b7db-0a987f342b44",
     "showTitle": false,
     "tableResultSettingsMap": {},
     "title": ""
    }
   },
   "source": [
    "#### 4.1.1. transformação de features a partir da coluna `TX_DATETIME`"
   ]
  },
  {
   "cell_type": "markdown",
   "metadata": {
    "application/vnd.databricks.v1+cell": {
     "cellMetadata": {
      "byteLimit": 2048000,
      "rowLimit": 10000
     },
     "inputWidgets": {},
     "nuid": "fc200231-98aa-4797-9fb6-500ba5990a0f",
     "showTitle": false,
     "tableResultSettingsMap": {},
     "title": ""
    }
   },
   "source": [
    "\n",
    "1. `TX_DURING_WEEKEND`: 1 se a transação ocorreu no fim de semana (sábado ou domingo), 0 caso contrário.\n",
    "\n",
    "2. `TX_DURING_NIGHT`: 1 se a transação ocorreu entre 00:00h e 06:00h, 0 caso contrário."
   ]
  },
  {
   "cell_type": "code",
   "execution_count": 0,
   "metadata": {
    "application/vnd.databricks.v1+cell": {
     "cellMetadata": {
      "byteLimit": 2048000,
      "rowLimit": 10000
     },
     "inputWidgets": {},
     "nuid": "bd3d80e8-3a6d-4b01-affb-4d9f5940c852",
     "showTitle": false,
     "tableResultSettingsMap": {},
     "title": ""
    }
   },
   "outputs": [],
   "source": [
    "# Cria coluna indicando se é fim de semana (1 = sábado ou domingo, 0 = dia útil)\n",
    "transactions = transactions.withColumn(\n",
    "    \"TX_DURING_WEEKEND\",\n",
    "    when(date_format((\"TX_DATETIME\"), \"E\").isin(\"Sat\", \"Sun\"), 1).otherwise(0)\n",
    ")\n",
    "\n",
    "transactions  = transactions.withColumn(\n",
    "     \"TX_DURING_NIGHT\",\n",
    "     when(hour(col(\"TX_DATETIME\")).between(0, 5), 1).otherwise(0)\n",
    ")"
   ]
  },
  {
   "cell_type": "code",
   "execution_count": 0,
   "metadata": {
    "application/vnd.databricks.v1+cell": {
     "cellMetadata": {
      "byteLimit": 2048000,
      "rowLimit": 10000
     },
     "inputWidgets": {},
     "nuid": "7c79014d-0236-4a90-96ce-3bd98827c6c9",
     "showTitle": false,
     "tableResultSettingsMap": {},
     "title": ""
    }
   },
   "outputs": [
    {
     "output_type": "display_data",
     "data": {
      "text/plain": [
       "Databricks data profile. Run in Databricks to view."
      ]
     },
     "metadata": {
      "application/vnd.databricks.v1.subcommand+json": {
       "baseErrorDetails": null,
       "bindings": {},
       "collapsed": false,
       "command": "%python\nif hasattr(dbutils, \"data\") and hasattr(dbutils.data, \"summarize\"):\n  # setup\n  __data_summary_display_orig = display\n  __data_summary_dfs = []\n  def __data_summary_display_new(df):\n    # add only when result is going to be table type\n    __data_summary_df_modules = [\"pandas.core.frame\", \"databricks.koalas.frame\", \"pyspark.sql.dataframe\", \"pyspark.pandas.frame\", \"pyspark.sql.connect.dataframe\", \"pyspark.sql.classic.dataframe\"]\n    if (type(df).__module__ in __data_summary_df_modules and type(df).__name__ == 'DataFrame') or isinstance(df, list):\n      __data_summary_dfs.append(df)\n  display = __data_summary_display_new\n\n  def __data_summary_user_code_fn():\n    import base64\n    exec(base64.standard_b64decode(\"ZGlzcGxheSh0cmFuc2FjdGlvbnMuc2VsZWN0KCJUWF9EQVRFVElNRSIsICJUWF9EVVJJTkdfV0VFS0VORCIsICJUWF9EVVJJTkdfTklHSFQiKSkK\").decode())\n\n  try:\n    # run user code\n    __data_summary_user_code_fn()\n\n    # run on valid tableResultIndex\n    if len(__data_summary_dfs) > 0:\n      # run summarize\n      if type(__data_summary_dfs[0]).__module__ == \"databricks.koalas.frame\":\n        # koalas dataframe\n        dbutils.data.summarize(__data_summary_dfs[0].to_spark())\n      elif type(__data_summary_dfs[0]).__module__ == \"pandas.core.frame\":\n        # pandas dataframe\n        dbutils.data.summarize(spark.createDataFrame(__data_summary_dfs[0]))\n      else:\n        dbutils.data.summarize(__data_summary_dfs[0])\n    else:\n        displayHTML(\"dataframe no longer exists. If you're using dataframe.display(), use display(dataframe) instead.\")\n\n  finally:\n    display = __data_summary_display_orig\n    del __data_summary_display_new\n    del __data_summary_display_orig\n    del __data_summary_dfs\n    del __data_summary_user_code_fn\nelse:\n  print(\"This DBR version does not support data profiles.\")",
       "commandTitle": "Perfil de dados 1",
       "commandType": "auto",
       "commandVersion": 0,
       "commentThread": [],
       "commentsVisible": false,
       "contentSha256Hex": null,
       "customPlotOptions": {},
       "datasetPreviewNameToCmdIdMap": {},
       "diffDeletes": [],
       "diffInserts": [],
       "displayType": "table",
       "error": null,
       "errorDetails": null,
       "errorSummary": null,
       "errorTraceType": null,
       "finishTime": 1750359197636,
       "globalVars": {},
       "guid": "",
       "height": "auto",
       "hideCommandCode": false,
       "hideCommandResult": false,
       "iPythonMetadata": null,
       "inputWidgets": {},
       "isLockedInExamMode": false,
       "latestUser": "a user",
       "latestUserId": null,
       "listResultMetadata": [
        [
         "mimeBundle",
         null
        ]
       ],
       "metadata": {
        "byteLimit": 2048000,
        "rowLimit": 10000
       },
       "nuid": "1adb654d-b3bc-4a75-828b-0335c163f4d6",
       "origId": 0,
       "parentHierarchy": [],
       "pivotAggregation": null,
       "pivotColumns": null,
       "position": 7.0,
       "resultDbfsErrorMessage": null,
       "resultDbfsStatus": "INLINED_IN_TREE",
       "results": null,
       "showCommandTitle": false,
       "startTime": 1750359186348,
       "state": "input",
       "streamStates": {},
       "subcommandOptions": null,
       "submitTime": 1750359181970,
       "subtype": "tableResultSubCmd.dataSummary",
       "tableResultIndex": 0,
       "tableResultSettingsMap": {},
       "useConsistentColors": false,
       "version": "CommandV1",
       "width": "auto",
       "workflows": null,
       "xColumns": null,
       "yColumns": null
      }
     },
     "output_type": "display_data"
    }
   ],
   "source": [
    "display(transactions.select(\"TX_DATETIME\", \"TX_DURING_WEEKEND\", \"TX_DURING_NIGHT\"))\n"
   ]
  },
  {
   "cell_type": "markdown",
   "metadata": {
    "application/vnd.databricks.v1+cell": {
     "cellMetadata": {
      "byteLimit": 2048000,
      "rowLimit": 10000
     },
     "inputWidgets": {},
     "nuid": "78f5bf9d-7410-4a99-8b5f-33b4bdabf79e",
     "showTitle": false,
     "tableResultSettingsMap": {},
     "title": ""
    }
   },
   "source": [
    "#### 4.1.2. transformação de features a partir da coluna `CUSTOMER_ID`"
   ]
  },
  {
   "cell_type": "markdown",
   "metadata": {
    "application/vnd.databricks.v1+cell": {
     "cellMetadata": {
      "byteLimit": 2048000,
      "rowLimit": 10000
     },
     "inputWidgets": {},
     "nuid": "d11565e1-7de8-4b13-89a2-e26b21162f29",
     "showTitle": false,
     "tableResultSettingsMap": {},
     "title": ""
    }
   },
   "source": [
    "Perfeito! Vamos agora transformar o `CUSTOMER_ID` com base nas ideias do livro, que usa o conceito de **RFM (Recency, Frequency, Monetary value)** para descrever o comportamento dos clientes.\n",
    "\n",
    "> Objetivo\n",
    "\n",
    "Criar **6 novas features** com base no `CUSTOMER_ID` para **diferentes janelas de tempo (últimos 1, 7 e 30 dias)**:\n",
    "\n",
    "---\n",
    "\n",
    "> **Novas Features (2 tipos × 3 janelas)**\n",
    "\n",
    "1. **Frequência (Frequency):**\n",
    "   Número de transações feitas por um cliente nos últimos `n` dias.\n",
    "   ➤ Nome da feature: `CUSTOMER_ID_NB_TX_nDAY_WINDOW`\n",
    "\n",
    "2. **Valor monetário médio (Monetary value):**\n",
    "   Valor médio das transações do cliente nos últimos `n` dias.\n",
    "   ➤ Nome da feature: `CUSTOMER_ID_AVG_AMOUNT_nDAY_WINDOW`\n",
    "\n",
    "Para `n = 1`, `7` e `30`.\n",
    "\n"
   ]
  },
  {
   "cell_type": "code",
   "execution_count": 0,
   "metadata": {
    "application/vnd.databricks.v1+cell": {
     "cellMetadata": {
      "byteLimit": 2048000,
      "rowLimit": 10000
     },
     "inputWidgets": {},
     "nuid": "96565dfe-0038-4f93-b8c1-546921c6d7f9",
     "showTitle": false,
     "tableResultSettingsMap": {},
     "title": ""
    }
   },
   "outputs": [],
   "source": [
    "def add_customer_spending_features(df, windows_days=[1, 7, 30]):\n",
    "    # Adiciona coluna de timestamp em segundos (necessário para rangeBetween)\n",
    "    df = df.withColumn(\"TX_TS\", unix_timestamp(\"TX_DATETIME\"))\n",
    "    \n",
    "    for n in windows_days:\n",
    "        window_secs = n * 86400  # número de segundos na janela\n",
    "        \n",
    "        # Janela para o cliente ordenada por timestamp, olhando para trás N dias\n",
    "        w = (\n",
    "            Window.partitionBy(\"CUSTOMER_ID\")\n",
    "                  .orderBy(col(\"TX_TS\"))\n",
    "                  .rangeBetween(-window_secs, 0)\n",
    "        )\n",
    "        \n",
    "        # Frequência de transações\n",
    "        df = df.withColumn(\n",
    "            f\"CUSTOMER_ID_NB_TX_{n}DAY_WINDOW\",\n",
    "            count(\"*\").over(w)\n",
    "        )\n",
    "        \n",
    "        # Valor médio das transações\n",
    "        df = df.withColumn(\n",
    "            f\"CUSTOMER_ID_AVG_AMOUNT_{n}DAY_WINDOW\",\n",
    "            avg(\"TX_AMOUNT\").over(w)\n",
    "        )\n",
    "        \n",
    "    return df"
   ]
  },
  {
   "cell_type": "code",
   "execution_count": 0,
   "metadata": {
    "application/vnd.databricks.v1+cell": {
     "cellMetadata": {
      "byteLimit": 2048000,
      "rowLimit": 10000
     },
     "inputWidgets": {},
     "nuid": "d5511219-a669-4ede-a6ab-5430803b3f15",
     "showTitle": false,
     "tableResultSettingsMap": {},
     "title": ""
    }
   },
   "outputs": [],
   "source": [
    "transactions = add_customer_spending_features(transactions)\n"
   ]
  },
  {
   "cell_type": "code",
   "execution_count": 0,
   "metadata": {
    "application/vnd.databricks.v1+cell": {
     "cellMetadata": {
      "byteLimit": 2048000,
      "rowLimit": 10000
     },
     "inputWidgets": {},
     "nuid": "fa6a90d7-61a9-448b-b49f-229b1e14c613",
     "showTitle": false,
     "tableResultSettingsMap": {},
     "title": ""
    }
   },
   "outputs": [],
   "source": [
    "display(transactions)"
   ]
  },
  {
   "cell_type": "markdown",
   "metadata": {
    "application/vnd.databricks.v1+cell": {
     "cellMetadata": {
      "byteLimit": 2048000,
      "rowLimit": 10000
     },
     "inputWidgets": {},
     "nuid": "7fb4a3bc-99f3-4c94-be19-95ff847471fe",
     "showTitle": false,
     "tableResultSettingsMap": {},
     "title": ""
    }
   },
   "source": [
    "#### 4.1.3. transformação de features a partir da coluna `TERMINAL_ID`"
   ]
  },
  {
   "cell_type": "markdown",
   "metadata": {
    "application/vnd.databricks.v1+cell": {
     "cellMetadata": {},
     "inputWidgets": {},
     "nuid": "e5abd625-7ee4-4683-8438-272dd20e5146",
     "showTitle": false,
     "tableResultSettingsMap": {},
     "title": ""
    }
   },
   "source": [
    "Nesta etapa, geramos recursos históricos que capturam o nível de risco de cada terminal com base em atividades fraudulentas anteriores. Esses recursos simulam o conhecimento disponível em um cenário real, onde as informações sobre fraudes são atrasadas em 7 dias. Para cada terminal e cada transação, calculamos:\n",
    "\n",
    "- O número de transações anteriores dentro de [t - (n + atraso), t - atraso]\n",
    "- A taxa de fraude (fraudes / transações) dentro desse mesmo intervalo\n",
    "\n",
    "Esses recursos são úteis para identificar terminais que podem ter sido comprometidos recentemente.\n",
    "\n",
    "> **Objetivo:**\n",
    "\n",
    "Criar 6 colunas para cada transação, com base no terminal:\n",
    "\n",
    "| Coluna                              | O que representa                                             |\n",
    "| ----------------------------------- | ------------------------------------------------------------ |\n",
    "| `TERMINAL_ID_NB_TX_1DAY_WINDOW`     | Qtde de transações no terminal nos últimos 1 dia (com delay) |\n",
    "| `TERMINAL_ID_RISK_1DAY_WINDOW`      | Fraudes / transações nos últimos 1 dia (com delay)           |\n",
    "| `...7DAY_WINDOW`, `...30DAY_WINDOW` | Mesma lógica para 7 e 30 dias                                |\n",
    "\n",
    "\n"
   ]
  },
  {
   "cell_type": "code",
   "execution_count": 0,
   "metadata": {
    "application/vnd.databricks.v1+cell": {
     "cellMetadata": {
      "byteLimit": 2048000,
      "rowLimit": 10000
     },
     "inputWidgets": {},
     "nuid": "9d057683-76f4-44a2-bbe8-d17412c694b3",
     "showTitle": false,
     "tableResultSettingsMap": {},
     "title": ""
    }
   },
   "outputs": [],
   "source": [
    "transactions.printSchema()"
   ]
  },
  {
   "cell_type": "code",
   "execution_count": 0,
   "metadata": {
    "application/vnd.databricks.v1+cell": {
     "cellMetadata": {
      "byteLimit": 2048000,
      "rowLimit": 10000
     },
     "inputWidgets": {},
     "nuid": "1ec15d49-a724-4f2a-b054-7e61bd38d486",
     "showTitle": false,
     "tableResultSettingsMap": {},
     "title": ""
    }
   },
   "outputs": [],
   "source": [
    "def add_terminal_risk_features(df, delay_days=7, window_days_list=[1, 7, 30]):\n",
    "    # Adiciona coluna de timestamp em segundos\n",
    "    df = df.withColumn(\"TX_TS\", unix_timestamp(\"TX_DATETIME\"))\n",
    "    \n",
    "    delay_sec = delay_days * 86400  # segundos de delay\n",
    "    \n",
    "    for window_days in window_days_list:\n",
    "        window_sec = window_days * 86400\n",
    "        total_range = delay_sec + window_sec\n",
    "        \n",
    "        # Cria a janela com range de delay + janela\n",
    "        w_full = (\n",
    "            Window.partitionBy(\"TERMINAL_ID\")\n",
    "            .orderBy(\"TX_TS\")\n",
    "            .rangeBetween(-total_range, -delay_sec - 1)  # garante a exclusão do delay\n",
    "        )\n",
    "        \n",
    "        # Transações e fraudes na janela (excluindo o delay)\n",
    "        nb_tx_col = f\"TERMINAL_ID_NB_TX_{window_days}DAY_WINDOW\"\n",
    "        risk_col = f\"TERMINAL_ID_RISK_{window_days}DAY_WINDOW\"\n",
    "        \n",
    "        df = df.withColumn(nb_tx_col, count(\"*\").over(w_full))\n",
    "        df = df.withColumn(\n",
    "            risk_col,\n",
    "            (spark_sum(\"TX_FRAUD\").over(w_full) / count(\"*\").over(w_full))\n",
    "        )\n",
    "        \n",
    "    risk_cols = [f\"TERMINAL_ID_RISK_{d}DAY_WINDOW\" for d in window_days_list]\n",
    "    df = df.fillna({col: 0 for col in risk_cols})\n",
    "   \n",
    "    return df\n"
   ]
  },
  {
   "cell_type": "code",
   "execution_count": 0,
   "metadata": {
    "application/vnd.databricks.v1+cell": {
     "cellMetadata": {
      "byteLimit": 2048000,
      "rowLimit": 10000
     },
     "inputWidgets": {},
     "nuid": "565e4033-c9b4-42c7-9583-8682368eb74b",
     "showTitle": false,
     "tableResultSettingsMap": {},
     "title": ""
    }
   },
   "outputs": [],
   "source": [
    "\n",
    "subset = transactions\n",
    "subset = add_terminal_risk_features(subset)\n",
    "\n",
    "\n",
    "display(subset.select('TRANSACTION_ID', \"TX_DATETIME\", \"TX_FRAUD\", 'TERMINAL_ID_NB_TX_1DAY_WINDOW', 'TERMINAL_ID_RISK_1DAY_WINDOW', 'TERMINAL_ID_NB_TX_7DAY_WINDOW', 'TERMINAL_ID_RISK_7DAY_WINDOW', 'TERMINAL_ID_NB_TX_30DAY_WINDOW', 'TERMINAL_ID_RISK_30DAY_WINDOW'))"
   ]
  },
  {
   "cell_type": "code",
   "execution_count": 0,
   "metadata": {
    "application/vnd.databricks.v1+cell": {
     "cellMetadata": {
      "byteLimit": 2048000,
      "rowLimit": 10000
     },
     "inputWidgets": {},
     "nuid": "99ab2579-eee2-4085-9078-404566ea74d1",
     "showTitle": false,
     "tableResultSettingsMap": {},
     "title": ""
    }
   },
   "outputs": [],
   "source": [
    "# Verificando linha para ver se bate os dados\n",
    "display(subset.filter(col('TRANSACTION_ID') == 1754154))"
   ]
  },
  {
   "cell_type": "code",
   "execution_count": 0,
   "metadata": {
    "application/vnd.databricks.v1+cell": {
     "cellMetadata": {
      "byteLimit": 2048000,
      "rowLimit": 10000
     },
     "inputWidgets": {},
     "nuid": "813e36fd-b62c-4707-9566-d281d541b623",
     "showTitle": false,
     "tableResultSettingsMap": {},
     "title": ""
    }
   },
   "outputs": [],
   "source": [
    "# Aplicando no dataset completo\n",
    "trasactions = add_terminal_risk_features(transactions)"
   ]
  },
  {
   "cell_type": "code",
   "execution_count": 0,
   "metadata": {
    "application/vnd.databricks.v1+cell": {
     "cellMetadata": {
      "byteLimit": 2048000,
      "rowLimit": 10000
     },
     "inputWidgets": {},
     "nuid": "e50f337f-b460-4ba6-8674-a363f177e327",
     "showTitle": false,
     "tableResultSettingsMap": {},
     "title": ""
    }
   },
   "outputs": [],
   "source": [
    "# verificando as colunas\n",
    "print(trasactions.columns)\n"
   ]
  },
  {
   "cell_type": "code",
   "execution_count": 0,
   "metadata": {
    "application/vnd.databricks.v1+cell": {
     "cellMetadata": {},
     "inputWidgets": {},
     "nuid": "4beae6e4-7ecf-45f7-aa6e-ff85fae094d1",
     "showTitle": false,
     "tableResultSettingsMap": {},
     "title": ""
    }
   },
   "outputs": [],
   "source": [
    "display(trasactions)"
   ]
  },
  {
   "cell_type": "code",
   "execution_count": 0,
   "metadata": {
    "application/vnd.databricks.v1+cell": {
     "cellMetadata": {},
     "inputWidgets": {},
     "nuid": "f1548f3c-22d4-4cdf-a7f8-a39580691b6c",
     "showTitle": false,
     "tableResultSettingsMap": {},
     "title": ""
    }
   },
   "outputs": [],
   "source": [
    "transactions.write.format(\"delta\").mode(\"overwrite\").saveAsTable(\"fraud_detection.transactions_feature_engineering_gold\")"
   ]
  }
 ],
 "metadata": {
  "application/vnd.databricks.v1+notebook": {
   "computePreferences": null,
   "dashboards": [],
   "environmentMetadata": {
    "base_environment": "",
    "environment_version": "2"
   },
   "inputWidgetPreferences": null,
   "language": "python",
   "notebookMetadata": {
    "mostRecentlyExecutedCommandWithImplicitDF": {
     "commandId": 7659649073447197,
     "dataframes": [
      "_sqldf"
     ]
    },
    "pythonIndentUnit": 4
   },
   "notebookName": "04_gold_feature_engineering",
   "widgets": {}
  },
  "language_info": {
   "name": "python"
  }
 },
 "nbformat": 4,
 "nbformat_minor": 0
}
